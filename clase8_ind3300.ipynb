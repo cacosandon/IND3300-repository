{
  "nbformat": 4,
  "nbformat_minor": 0,
  "metadata": {
    "colab": {
      "name": "clase8_ind3300.ipynb",
      "provenance": [],
      "collapsed_sections": []
    },
    "kernelspec": {
      "name": "python3",
      "display_name": "Python 3"
    }
  },
  "cells": [
    {
      "cell_type": "markdown",
      "metadata": {
        "id": "QcVK4x523pjX",
        "colab_type": "text"
      },
      "source": [
        "Primero instalamos todas las librerías\n"
      ]
    },
    {
      "cell_type": "code",
      "metadata": {
        "id": "Zr0H0JT8Y0o5",
        "colab_type": "code",
        "colab": {
          "base_uri": "https://localhost:8080/",
          "height": 263
        },
        "outputId": "9cf86075-29be-4473-ffd1-5862a17e29bb"
      },
      "source": [
        "!pip install torch\n",
        "!pip install matplotlib\n",
        "!pip install numpy"
      ],
      "execution_count": 14,
      "outputs": [
        {
          "output_type": "stream",
          "text": [
            "Requirement already satisfied: torch in /usr/local/lib/python3.6/dist-packages (1.4.0)\n",
            "Requirement already satisfied: scipy in /usr/local/lib/python3.6/dist-packages (1.4.1)\n",
            "Requirement already satisfied: numpy>=1.13.3 in /usr/local/lib/python3.6/dist-packages (from scipy) (1.18.3)\n",
            "Requirement already satisfied: h5py in /usr/local/lib/python3.6/dist-packages (2.10.0)\n",
            "Requirement already satisfied: six in /usr/local/lib/python3.6/dist-packages (from h5py) (1.12.0)\n",
            "Requirement already satisfied: numpy>=1.7 in /usr/local/lib/python3.6/dist-packages (from h5py) (1.18.3)\n",
            "Requirement already satisfied: matplotlib in /usr/local/lib/python3.6/dist-packages (3.2.1)\n",
            "Requirement already satisfied: python-dateutil>=2.1 in /usr/local/lib/python3.6/dist-packages (from matplotlib) (2.8.1)\n",
            "Requirement already satisfied: pyparsing!=2.0.4,!=2.1.2,!=2.1.6,>=2.0.1 in /usr/local/lib/python3.6/dist-packages (from matplotlib) (2.4.7)\n",
            "Requirement already satisfied: kiwisolver>=1.0.1 in /usr/local/lib/python3.6/dist-packages (from matplotlib) (1.2.0)\n",
            "Requirement already satisfied: cycler>=0.10 in /usr/local/lib/python3.6/dist-packages (from matplotlib) (0.10.0)\n",
            "Requirement already satisfied: numpy>=1.11 in /usr/local/lib/python3.6/dist-packages (from matplotlib) (1.18.3)\n",
            "Requirement already satisfied: six>=1.5 in /usr/local/lib/python3.6/dist-packages (from python-dateutil>=2.1->matplotlib) (1.12.0)\n",
            "Requirement already satisfied: numpy in /usr/local/lib/python3.6/dist-packages (1.18.3)\n"
          ],
          "name": "stdout"
        }
      ]
    },
    {
      "cell_type": "markdown",
      "metadata": {
        "id": "QSyiGi9lglFh",
        "colab_type": "text"
      },
      "source": [
        "* `numpy` es el package fundamental para cálculos en Python.\n",
        "* `matplotlib` es el package para graficar en Python.\n",
        "* `torch` es el package que usaremos para redes neuronales, de PyTorch."
      ]
    },
    {
      "cell_type": "code",
      "metadata": {
        "id": "v9Q8ukndgk1b",
        "colab_type": "code",
        "colab": {}
      },
      "source": [
        "import time\n",
        "import numpy as np\n",
        "import matplotlib.pyplot as plt\n",
        "import pandas as pd\n",
        "from datetime import datetime\n",
        "import random"
      ],
      "execution_count": 0,
      "outputs": []
    },
    {
      "cell_type": "code",
      "metadata": {
        "id": "EEIAzd18ZDsY",
        "colab_type": "code",
        "colab": {}
      },
      "source": [
        "import torch\n",
        "device = torch.device(\"cuda:0\") # Esto es para usar la GPU del computador"
      ],
      "execution_count": 0,
      "outputs": []
    },
    {
      "cell_type": "markdown",
      "metadata": {
        "id": "1DfRripRLe9r",
        "colab_type": "text"
      },
      "source": [
        "Cargamos la base de datos que obtuvimos de Kaggle (plataforma de muchas bases de datos). Esta está subida en un repositorio público de GitHub que creamos en el curso"
      ]
    },
    {
      "cell_type": "code",
      "metadata": {
        "id": "vFz58TXhiGRy",
        "colab_type": "code",
        "colab": {
          "base_uri": "https://localhost:8080/",
          "height": 263
        },
        "outputId": "34153e59-815c-449a-f683-3b1a52bce6a1"
      },
      "source": [
        "url = 'https://raw.githubusercontent.com/cacosandon/IND3300-repository/master/dataframe_ind3300.csv'\n",
        "data = pd.read_csv(url).drop(columns=['index'])\n",
        "\n",
        "print(data)"
      ],
      "execution_count": 190,
      "outputs": [
        {
          "output_type": "stream",
          "text": [
            "                localhour    use  humidity    celsius\n",
            "0     2018-01-02 01:00:00  0.310      0.78  15.827778\n",
            "1     2018-01-02 02:00:00  0.273      0.85  14.555556\n",
            "2     2018-01-02 03:00:00  0.305      0.88  13.694444\n",
            "3     2018-01-02 04:00:00  0.346      0.90  13.283333\n",
            "4     2018-01-02 05:00:00  0.391      0.91  12.894444\n",
            "...                   ...    ...       ...        ...\n",
            "8682  2018-12-29 19:00:00  0.645      0.36   6.522222\n",
            "8683  2018-12-29 20:00:00  0.659      0.37   6.033333\n",
            "8684  2018-12-29 21:00:00  0.617      0.35   6.461111\n",
            "8685  2018-12-29 22:00:00  0.596      0.35   6.416667\n",
            "8686  2018-12-29 23:00:00  0.598      0.37   5.994444\n",
            "\n",
            "[8687 rows x 4 columns]\n"
          ],
          "name": "stdout"
        }
      ]
    },
    {
      "cell_type": "markdown",
      "metadata": {
        "id": "yT3xnQ70LyNk",
        "colab_type": "text"
      },
      "source": [
        "Investiguemos un poco de la base de datos. Grafiquemos durante 3 días qué pasa con el consumo energético en esta casa. ¿Cómo se relaciona con la temperatura?\n"
      ]
    },
    {
      "cell_type": "code",
      "metadata": {
        "id": "NWXPTUOSL0Yg",
        "colab_type": "code",
        "colab": {
          "base_uri": "https://localhost:8080/",
          "height": 513
        },
        "outputId": "72f1b681-5a9e-43b0-8c3f-152caf358dbd"
      },
      "source": [
        "data.iloc[0:72].plot(y=['use'])\n",
        "data.iloc[0:72].plot(y=['use', 'celsius'])\n",
        "plt.show()"
      ],
      "execution_count": 191,
      "outputs": [
        {
          "output_type": "display_data",
          "data": {
            "image/png": "[encoded data removed]",
            "text/plain": [
              "<Figure size 432x288 with 1 Axes>"
            ]
          },
          "metadata": {
            "tags": [],
            "needs_background": "light"
          }
        },
        {
          "output_type": "display_data",
          "data": {
            "image/png": "[encoded data removed]",
            "text/plain": [
              "<Figure size 432x288 with 1 Axes>"
            ]
          },
          "metadata": {
            "tags": [],
            "needs_background": "light"
          }
        }
      ]
    },
    {
      "cell_type": "markdown",
      "metadata": {
        "id": "e-QHfL7FOXgo",
        "colab_type": "text"
      },
      "source": [
        "**Let's predict!**\n",
        "¿Qué sabemos?\n",
        "\n",
        "El consumo de energía en un ahora específica se puede relacionar fuertemente con la temperatura, la humedad, la hora del día y obviamente de cómo se ha utilizado la energía horas previas a la estudiada. Dado esto, tendrémos 5 variables de input:\n",
        "\n",
        "\n",
        "1.   Temperatura \n",
        "2.   Humedad\n",
        "3.   Hora del día \n",
        "4.   Uso de energía en t - 1\n",
        "5.   Uso de energía en t - 2\n",
        "6.   Uso de energía en t - 3\n",
        "\n",
        "¿Qué vamos a predecir?\n",
        "El consumo energético de una hora en específico, sabiendo los datos anteriormente nombrados.\n"
      ]
    },
    {
      "cell_type": "markdown",
      "metadata": {
        "id": "u9ZcptsUOd6w",
        "colab_type": "text"
      },
      "source": [
        "Antes que todo: armar el input!"
      ]
    },
    {
      "cell_type": "code",
      "metadata": {
        "id": "lEZJLYxFOggI",
        "colab_type": "code",
        "colab": {}
      },
      "source": [
        "length = len(data) # Obtenemos cuántas filas de información tenemos\n",
        "y_size = 1 # Queremos simplemente saber la hora siguiente, a partir de las 3 horas anteriores\n",
        "\n",
        "X = [] # Este será nuestro input. Una matriz con cada instancia y las variables correspondientes\n",
        "Y = [] # Este será nuestro output. Un vector (dado que nuestro output es de una dimensión)\n",
        "\n",
        "# Nos sirve para sacar las variables de día y hora\n",
        "get_day = lambda x: datetime.strptime(x, \"%Y-%m-%d %H:%M:%S\")"
      ],
      "execution_count": 0,
      "outputs": []
    },
    {
      "cell_type": "markdown",
      "metadata": {
        "id": "NAXByfLxPskw",
        "colab_type": "text"
      },
      "source": [
        "Debemos crear nuestra propia dataset para comprobar nuestros resultados y entrenar el modelo. Para esto, partimos desde la cuarta fila (i = 3), para así obtener las tres horas anteriores y añadir un dato a nuestra database.\n",
        "\n",
        "Un dato es variables + output esperado. Las variables se añaden a la matriz X y el output esperado a la matriz Y.\n",
        "\n",
        "Nos vamos corriendo en el dataframe inicial para crear una cantidad total a 8687 - 4 datos para nuestra red neuronal. Esto porque al final del dataframe no podemos predecir con los últimos 3 datos (sólo con los últimos 4).\n",
        "\n",
        " **OJO: Se demora un poco!**"
      ]
    },
    {
      "cell_type": "code",
      "metadata": {
        "id": "PCoZAW2UPr_s",
        "colab_type": "code",
        "colab": {}
      },
      "source": [
        "i = 3\n",
        "while i < length - 1:\n",
        "    row = data.loc[i] # Obtenemos la fila\n",
        "    row_date = get_day(row['localhour']) # Parseamos el string para obtener el formato de fecha\n",
        "    \n",
        "    tmprt = row['celsius'] # Primera variable\n",
        "    hum = row['humidity'] # Segunda variable\n",
        "    hod = row_date.hour # Tercera variable\n",
        "\n",
        "    use_1 = data.loc[i-1]['use'] # Cuarta variable\n",
        "    use_2 = data.loc[i-2]['use'] # Quinta variable\n",
        "    use_3 = data.loc[i-3]['use'] # Sexta variable\n",
        "    \n",
        "    X.append([tmprt, hum, hod, use_1, use_2, use_3]) # Añadimos a el input la fila de variables\n",
        "    Y.append([data.loc[i + 1]['use']]) # Añadimos el output: predicción de uso energético en hora siguiente\n",
        "    i += 1"
      ],
      "execution_count": 0,
      "outputs": []
    },
    {
      "cell_type": "markdown",
      "metadata": {
        "id": "niy3wgiCRo-M",
        "colab_type": "text"
      },
      "source": [
        "Comprobemos si todo está bien!"
      ]
    },
    {
      "cell_type": "code",
      "metadata": {
        "id": "9EvDunfcRq9p",
        "colab_type": "code",
        "colab": {
          "base_uri": "https://localhost:8080/",
          "height": 52
        },
        "outputId": "68ec9b81-ce6d-40ab-cf5f-bb9669bd4df5"
      },
      "source": [
        "print(len(X))\n",
        "print(len(Y))"
      ],
      "execution_count": 194,
      "outputs": [
        {
          "output_type": "stream",
          "text": [
            "8683\n",
            "8683\n"
          ],
          "name": "stdout"
        }
      ]
    },
    {
      "cell_type": "markdown",
      "metadata": {
        "id": "x091BILkTuu5",
        "colab_type": "text"
      },
      "source": [
        "Ahora debemos separar en training y test data. Lo que hacemos es obtener un sample de índices que serán el training set, y los restantes serán para el testing set."
      ]
    },
    {
      "cell_type": "code",
      "metadata": {
        "id": "Jsm7_g8UTuXk",
        "colab_type": "code",
        "colab": {
          "base_uri": "https://localhost:8080/",
          "height": 34
        },
        "outputId": "b30228b3-63ce-49eb-dff0-390949d7d18f"
      },
      "source": [
        "indices = random.sample(range(len(X)), int(0.8*len(X))) # Obtenemos 80% de índices aleatorios, que serán nuestras filas de entrenamiento\n",
        "\n",
        "train_x, train_y, test_x, test_y = [], [], [], []\n",
        "for i in range(len(X)):\n",
        "  if i in indices:\n",
        "    train_x.append(X[i])\n",
        "    train_y.append(Y[i])\n",
        "  else:\n",
        "    test_x.append(X[i])\n",
        "    test_y.append(Y[i])\n",
        "\n",
        "print(f\"La cantidad de datos para el training son {len(train_x)}\")\n"
      ],
      "execution_count": 196,
      "outputs": [
        {
          "output_type": "stream",
          "text": [
            "La cantida de datos para el training son 6946\n"
          ],
          "name": "stdout"
        }
      ]
    },
    {
      "cell_type": "code",
      "metadata": {
        "id": "0QusAMrVZHfl",
        "colab_type": "code",
        "colab": {
          "base_uri": "https://localhost:8080/",
          "height": 263
        },
        "outputId": "6d82a518-7e91-468c-e1f1-4af404ce5e4c"
      },
      "source": [
        "# Obtenemos X y Y sampleados y los pasamos a torch, el vector que ocupa PyTorch para ocupar la GPU\n",
        "x, y = torch.from_numpy(np.array(train_x)).float(), torch.from_numpy(np.array(train_y)).float()\n",
        "\n",
        "print(x, \"\\n\", y)"
      ],
      "execution_count": 198,
      "outputs": [
        {
          "output_type": "stream",
          "text": [
            "tensor([[12.1944,  0.8500,  7.0000,  0.2790,  0.3910,  0.3460],\n",
            "        [12.3889,  0.9000,  8.0000,  0.3070,  0.2790,  0.3910],\n",
            "        [12.1889,  0.9000,  9.0000,  0.3010,  0.3070,  0.2790],\n",
            "        ...,\n",
            "        [ 6.0333,  0.3700, 20.0000,  0.6450,  0.6980,  0.8990],\n",
            "        [ 6.4611,  0.3500, 21.0000,  0.6590,  0.6450,  0.6980],\n",
            "        [ 6.4167,  0.3500, 22.0000,  0.6170,  0.6590,  0.6450]]) \n",
            " tensor([[0.3010],\n",
            "        [0.2490],\n",
            "        [0.2910],\n",
            "        ...,\n",
            "        [0.6170],\n",
            "        [0.5960],\n",
            "        [0.5980]])\n"
          ],
          "name": "stdout"
        }
      ]
    },
    {
      "cell_type": "markdown",
      "metadata": {
        "id": "-pR4Qxk_45Y0",
        "colab_type": "text"
      },
      "source": [
        "Creamos la clase que será nuestra red neuronal. Tenemos las capas de entrada y salida:\n",
        "\n",
        "*   self.input_linear\n",
        "*   self.output_linear\n",
        "\n",
        "Y tenemos las capas ocultas o *hidden layers*, donde la primera será una con la función de activación \"Linear\" y la segunda tendrá una función de activación \"ReLU\".\n",
        "\n"
      ]
    },
    {
      "cell_type": "code",
      "metadata": {
        "id": "6aGwcxdHcEDp",
        "colab_type": "code",
        "colab": {}
      },
      "source": [
        "# Usamos el paquete \"nn\" para definir el modelo y la función de estimación del error.\n",
        "class DynamicNet(torch.nn.Module):\n",
        "    def __init__(self, D_in, H, D_out):\n",
        "        super(DynamicNet, self).__init__()\n",
        "        self.input_linear = torch.nn.Linear(D_in, H)\n",
        "        self.hidden_layer = torch.nn.Linear(H, H)\n",
        "        self.hidden_layer2 = torch.nn.ReLU()\n",
        "        self.output_linear = torch.nn.Linear(H, D_out)\n",
        "\n",
        "    def forward(self, x):\n",
        "      \n",
        "        h = self.input_linear(x)\n",
        "        h_hidden = self.hidden_layer(h)\n",
        "        h_hidden2 = self.hidden_layer2(h_hidden)\n",
        "        y_pred = self.output_linear(h_hidden2)\n",
        "        return y_pred\n",
        "\n",
        "# Tenemos 6 variables de entrada, usaremos 32 neuronas por capa, 1 dato de salida\n",
        "model = DynamicNet(6, 32, 1)\n",
        "\n",
        "# Función de error MSE\n",
        "criterion = torch.nn.MSELoss(reduction='mean')\n",
        "\n",
        "# Optimizador de redes neuronales que nos entre PyTorch\n",
        "optimizer = torch.optim.SGD(model.parameters(), lr=1e-4, momentum=0.9)"
      ],
      "execution_count": 0,
      "outputs": []
    },
    {
      "cell_type": "code",
      "metadata": {
        "id": "AvLf04Lic21n",
        "colab_type": "code",
        "colab": {
          "base_uri": "https://localhost:8080/",
          "height": 193
        },
        "outputId": "2af50e30-4f5e-42c2-f01c-5ccebbdc409e"
      },
      "source": [
        "# Especificamos las 5000 iteraciones\n",
        "for t in range(5000):\n",
        "    # Calculamos la predicción con el modelo actual. \"Forward\"\n",
        "    y_pred = model(x)\n",
        "\n",
        "    # Calculamos el error e imprimimos cada 500 iteraciones.\n",
        "    loss = criterion(y_pred, y)\n",
        "    if t % 500 == 99:\n",
        "        print(t, loss.item())\n",
        "\n",
        "    # Ejecutamos la calibración de los pesos. \"Backward\"\n",
        "    optimizer.zero_grad()\n",
        "    loss.backward()\n",
        "    optimizer.step()"
      ],
      "execution_count": 200,
      "outputs": [
        {
          "output_type": "stream",
          "text": [
            "99 0.20113196969032288\n",
            "599 0.16925166547298431\n",
            "1099 0.14995290338993073\n",
            "1599 0.13737352192401886\n",
            "2099 0.1280684471130371\n",
            "2599 0.12168078869581223\n",
            "3099 0.1176317036151886\n",
            "3599 0.11515340209007263\n",
            "4099 0.11359445005655289\n",
            "4599 0.11228422820568085\n"
          ],
          "name": "stdout"
        }
      ]
    },
    {
      "cell_type": "markdown",
      "metadata": {
        "id": "SkPhBgYs7RxY",
        "colab_type": "text"
      },
      "source": [
        "Dado que nuestro modelo está entrenado, entonces procederemos a probarlo con el test dataset. Para esto, graficaremos el test y su respectiva predicción con el modelo entrenado."
      ]
    },
    {
      "cell_type": "code",
      "metadata": {
        "id": "c16RUbcGwiE9",
        "colab_type": "code",
        "colab": {
          "base_uri": "https://localhost:8080/",
          "height": 265
        },
        "outputId": "a78f1660-5b29-47b3-b8b8-8cf08d3aec44"
      },
      "source": [
        "real = [] # Almacenamos valores reales\n",
        "pred = [] # Almacenamos valores predecidos\n",
        "for i in range(48):\n",
        "  x, y = test_x[i], test_y[i]\n",
        "  real += list(y) # Agregamos el que ya tenemos\n",
        "  outputs = model(torch.from_numpy(np.array(x)).float()) # Predecimos\n",
        "  pred += list(outputs.to(\"cpu\")) # Agregamos el que predecimos\n",
        "\n",
        "# Plot the results\n",
        "fig, ax = plt.subplots()\n",
        "ax.plot(real, label=\"Real\")\n",
        "ax.plot(pred, label=\"Predicted\")\n",
        "ax.legend()\n",
        "plt.show()"
      ],
      "execution_count": 205,
      "outputs": [
        {
          "output_type": "display_data",
          "data": {
            "image/png": "[encoded data removed]",
            "text/plain": [
              "<Figure size 432x288 with 1 Axes>"
            ]
          },
          "metadata": {
            "tags": [],
            "needs_background": "light"
          }
        }
      ]
    }
  ]
}